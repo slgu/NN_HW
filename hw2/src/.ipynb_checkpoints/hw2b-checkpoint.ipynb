{
 "cells": [
  {
   "cell_type": "markdown",
   "metadata": {},
   "source": [
    "# ECBM E6040 Homework 2 - Programming Problem"
   ]
  },
  {
   "cell_type": "code",
   "execution_count": null,
   "metadata": {
    "collapsed": false
   },
   "outputs": [],
   "source": [
    "from hw2b import load_data, LogisticRegression, HiddenLayer, MLP, test_b2"
   ]
  },
  {
   "cell_type": "markdown",
   "metadata": {},
   "source": [
    "### Bullet 2: Comparison between _tanh_ and _softmax_"
   ]
  },
  {
   "cell_type": "code",
   "execution_count": null,
   "metadata": {
    "collapsed": false,
    "scrolled": false
   },
   "outputs": [
    {
     "name": "stdout",
     "output_type": "stream",
     "text": [
      "b2 result\n",
      "result for hidden_layer = 2, activation: tanh\n",
      "... loading data\n",
      "... building the model\n",
      "... training\n",
      "rate: 0.044643\n",
      "epoch 1, minibatch 3662/3662, validation error 49.849727 %\n",
      "this:0.498497 best:inf\n",
      "     epoch 1, minibatch 3662/3662, test error of best model 50.289745 %\n",
      "rate: 0.040323\n",
      "epoch 2, minibatch 3662/3662, validation error 38.169399 %\n",
      "this:0.381694 best:0.498497\n",
      "     epoch 2, minibatch 3662/3662, test error of best model 38.904733 %\n",
      "rate: 0.036765\n",
      "epoch 3, minibatch 3662/3662, validation error 28.838798 %\n",
      "this:0.288388 best:0.381694\n",
      "     epoch 3, minibatch 3662/3662, test error of best model 29.646541 %\n",
      "rate: 0.033784\n",
      "epoch 4, minibatch 3662/3662, validation error 27.786885 %\n",
      "this:0.277869 best:0.288388\n",
      "     epoch 4, minibatch 3662/3662, test error of best model 29.057949 %\n",
      "rate: 0.031250\n",
      "epoch 5, minibatch 3662/3662, validation error 25.751366 %\n",
      "this:0.257514 best:0.277869\n",
      "     epoch 5, minibatch 3662/3662, test error of best model 27.179915 %\n",
      "rate: 0.029070\n",
      "epoch 6, minibatch 3662/3662, validation error 24.890710 %\n",
      "this:0.248907 best:0.257514\n",
      "     epoch 6, minibatch 3662/3662, test error of best model 26.061893 %\n",
      "rate: 0.027174\n",
      "epoch 7, minibatch 3662/3662, validation error 23.702186 %\n",
      "this:0.237022 best:0.248907\n",
      "     epoch 7, minibatch 3662/3662, test error of best model 25.159284 %\n",
      "rate: 0.025510\n",
      "epoch 8, minibatch 3662/3662, validation error 23.060109 %\n",
      "this:0.230601 best:0.237022\n",
      "     epoch 8, minibatch 3662/3662, test error of best model 24.311286 %\n",
      "rate: 0.024038\n",
      "epoch 9, minibatch 3662/3662, validation error 22.308743 %\n",
      "this:0.223087 best:0.230601\n",
      "     epoch 9, minibatch 3662/3662, test error of best model 23.463289 %\n",
      "rate: 0.022727\n",
      "epoch 10, minibatch 3662/3662, validation error 20.901639 %\n",
      "this:0.209016 best:0.223087\n",
      "     epoch 10, minibatch 3662/3662, test error of best model 22.378641 %\n",
      "rate: 0.021552\n",
      "epoch 11, minibatch 3662/3662, validation error 20.341530 %\n",
      "this:0.203415 best:0.209016\n",
      "     epoch 11, minibatch 3662/3662, test error of best model 21.855279 %\n",
      "rate: 0.020492\n",
      "epoch 12, minibatch 3662/3662, validation error 19.767760 %\n",
      "this:0.197678 best:0.203415\n",
      "     epoch 12, minibatch 3662/3662, test error of best model 21.219660 %\n",
      "rate: 0.019531\n"
     ]
    }
   ],
   "source": [
    "test_b2()"
   ]
  },
  {
   "cell_type": "markdown",
   "metadata": {},
   "source": [
    "### Bullet 3: Experiment with the number of hidden layers"
   ]
  },
  {
   "cell_type": "code",
   "execution_count": null,
   "metadata": {
    "collapsed": true
   },
   "outputs": [],
   "source": []
  },
  {
   "cell_type": "markdown",
   "metadata": {},
   "source": [
    "Plot the result (reproducing Figure 1)"
   ]
  },
  {
   "cell_type": "code",
   "execution_count": null,
   "metadata": {
    "collapsed": true
   },
   "outputs": [],
   "source": []
  },
  {
   "cell_type": "markdown",
   "metadata": {},
   "source": [
    "Document the choice of parameters, and discuss what you discover."
   ]
  },
  {
   "cell_type": "code",
   "execution_count": null,
   "metadata": {
    "collapsed": true
   },
   "outputs": [],
   "source": [
    "# TODO"
   ]
  },
  {
   "cell_type": "markdown",
   "metadata": {},
   "source": [
    "### Bullet 4: Experiment with the number of hidden layers, but fix the total number of neurons"
   ]
  },
  {
   "cell_type": "code",
   "execution_count": null,
   "metadata": {
    "collapsed": true
   },
   "outputs": [],
   "source": [
    "# TODO"
   ]
  },
  {
   "cell_type": "markdown",
   "metadata": {},
   "source": [
    "Plot the result (reproducing Figure 2)"
   ]
  },
  {
   "cell_type": "code",
   "execution_count": null,
   "metadata": {
    "collapsed": true
   },
   "outputs": [],
   "source": [
    "# TODO"
   ]
  },
  {
   "cell_type": "markdown",
   "metadata": {},
   "source": [
    "Document the choice of parameters, and discuss what you discover."
   ]
  },
  {
   "cell_type": "code",
   "execution_count": null,
   "metadata": {
    "collapsed": true
   },
   "outputs": [],
   "source": []
  },
  {
   "cell_type": "markdown",
   "metadata": {},
   "source": [
    "### Bullet 5: Experiment with the number of neurons in hidden layers, but fix the number of hidden layers"
   ]
  },
  {
   "cell_type": "code",
   "execution_count": null,
   "metadata": {
    "collapsed": true,
    "scrolled": false
   },
   "outputs": [],
   "source": [
    "# TODO"
   ]
  },
  {
   "cell_type": "markdown",
   "metadata": {},
   "source": [
    "Plot the result (reproducing Figure 3)"
   ]
  },
  {
   "cell_type": "code",
   "execution_count": null,
   "metadata": {
    "collapsed": true
   },
   "outputs": [],
   "source": [
    "# TODO"
   ]
  },
  {
   "cell_type": "markdown",
   "metadata": {},
   "source": [
    "Document the choice of parameters, and discuss what you discover."
   ]
  },
  {
   "cell_type": "code",
   "execution_count": null,
   "metadata": {
    "collapsed": true
   },
   "outputs": [],
   "source": [
    "# TODO"
   ]
  }
 ],
 "metadata": {
  "kernelspec": {
   "display_name": "Python 2",
   "language": "python",
   "name": "python2"
  },
  "language_info": {
   "codemirror_mode": {
    "name": "ipython",
    "version": 2
   },
   "file_extension": ".py",
   "mimetype": "text/x-python",
   "name": "python",
   "nbconvert_exporter": "python",
   "pygments_lexer": "ipython2",
   "version": "2.7.10"
  }
 },
 "nbformat": 4,
 "nbformat_minor": 0
}
